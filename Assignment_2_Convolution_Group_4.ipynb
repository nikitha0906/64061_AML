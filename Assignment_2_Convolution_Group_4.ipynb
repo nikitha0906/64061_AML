{
  "cells": [
    {
      "cell_type": "code",
      "execution_count": null,
      "metadata": {
        "colab": {
          "base_uri": "https://localhost:8080/",
          "height": 90
        },
        "id": "30FPfnFvP1gA",
        "outputId": "d2d9e7fb-ce58-4438-8351-d444faf87001"
      },
      "outputs": [
        {
          "output_type": "display_data",
          "data": {
            "text/plain": [
              "<IPython.core.display.HTML object>"
            ],
            "text/html": [
              "\n",
              "     <input type=\"file\" id=\"files-67f6cfff-5fa3-4f98-bc6d-35b0c6447774\" name=\"files[]\" multiple disabled\n",
              "        style=\"border:none\" />\n",
              "     <output id=\"result-67f6cfff-5fa3-4f98-bc6d-35b0c6447774\">\n",
              "      Upload widget is only available when the cell has been executed in the\n",
              "      current browser session. Please rerun this cell to enable.\n",
              "      </output>\n",
              "      <script>// Copyright 2017 Google LLC\n",
              "//\n",
              "// Licensed under the Apache License, Version 2.0 (the \"License\");\n",
              "// you may not use this file except in compliance with the License.\n",
              "// You may obtain a copy of the License at\n",
              "//\n",
              "//      http://www.apache.org/licenses/LICENSE-2.0\n",
              "//\n",
              "// Unless required by applicable law or agreed to in writing, software\n",
              "// distributed under the License is distributed on an \"AS IS\" BASIS,\n",
              "// WITHOUT WARRANTIES OR CONDITIONS OF ANY KIND, either express or implied.\n",
              "// See the License for the specific language governing permissions and\n",
              "// limitations under the License.\n",
              "\n",
              "/**\n",
              " * @fileoverview Helpers for google.colab Python module.\n",
              " */\n",
              "(function(scope) {\n",
              "function span(text, styleAttributes = {}) {\n",
              "  const element = document.createElement('span');\n",
              "  element.textContent = text;\n",
              "  for (const key of Object.keys(styleAttributes)) {\n",
              "    element.style[key] = styleAttributes[key];\n",
              "  }\n",
              "  return element;\n",
              "}\n",
              "\n",
              "// Max number of bytes which will be uploaded at a time.\n",
              "const MAX_PAYLOAD_SIZE = 100 * 1024;\n",
              "\n",
              "function _uploadFiles(inputId, outputId) {\n",
              "  const steps = uploadFilesStep(inputId, outputId);\n",
              "  const outputElement = document.getElementById(outputId);\n",
              "  // Cache steps on the outputElement to make it available for the next call\n",
              "  // to uploadFilesContinue from Python.\n",
              "  outputElement.steps = steps;\n",
              "\n",
              "  return _uploadFilesContinue(outputId);\n",
              "}\n",
              "\n",
              "// This is roughly an async generator (not supported in the browser yet),\n",
              "// where there are multiple asynchronous steps and the Python side is going\n",
              "// to poll for completion of each step.\n",
              "// This uses a Promise to block the python side on completion of each step,\n",
              "// then passes the result of the previous step as the input to the next step.\n",
              "function _uploadFilesContinue(outputId) {\n",
              "  const outputElement = document.getElementById(outputId);\n",
              "  const steps = outputElement.steps;\n",
              "\n",
              "  const next = steps.next(outputElement.lastPromiseValue);\n",
              "  return Promise.resolve(next.value.promise).then((value) => {\n",
              "    // Cache the last promise value to make it available to the next\n",
              "    // step of the generator.\n",
              "    outputElement.lastPromiseValue = value;\n",
              "    return next.value.response;\n",
              "  });\n",
              "}\n",
              "\n",
              "/**\n",
              " * Generator function which is called between each async step of the upload\n",
              " * process.\n",
              " * @param {string} inputId Element ID of the input file picker element.\n",
              " * @param {string} outputId Element ID of the output display.\n",
              " * @return {!Iterable<!Object>} Iterable of next steps.\n",
              " */\n",
              "function* uploadFilesStep(inputId, outputId) {\n",
              "  const inputElement = document.getElementById(inputId);\n",
              "  inputElement.disabled = false;\n",
              "\n",
              "  const outputElement = document.getElementById(outputId);\n",
              "  outputElement.innerHTML = '';\n",
              "\n",
              "  const pickedPromise = new Promise((resolve) => {\n",
              "    inputElement.addEventListener('change', (e) => {\n",
              "      resolve(e.target.files);\n",
              "    });\n",
              "  });\n",
              "\n",
              "  const cancel = document.createElement('button');\n",
              "  inputElement.parentElement.appendChild(cancel);\n",
              "  cancel.textContent = 'Cancel upload';\n",
              "  const cancelPromise = new Promise((resolve) => {\n",
              "    cancel.onclick = () => {\n",
              "      resolve(null);\n",
              "    };\n",
              "  });\n",
              "\n",
              "  // Wait for the user to pick the files.\n",
              "  const files = yield {\n",
              "    promise: Promise.race([pickedPromise, cancelPromise]),\n",
              "    response: {\n",
              "      action: 'starting',\n",
              "    }\n",
              "  };\n",
              "\n",
              "  cancel.remove();\n",
              "\n",
              "  // Disable the input element since further picks are not allowed.\n",
              "  inputElement.disabled = true;\n",
              "\n",
              "  if (!files) {\n",
              "    return {\n",
              "      response: {\n",
              "        action: 'complete',\n",
              "      }\n",
              "    };\n",
              "  }\n",
              "\n",
              "  for (const file of files) {\n",
              "    const li = document.createElement('li');\n",
              "    li.append(span(file.name, {fontWeight: 'bold'}));\n",
              "    li.append(span(\n",
              "        `(${file.type || 'n/a'}) - ${file.size} bytes, ` +\n",
              "        `last modified: ${\n",
              "            file.lastModifiedDate ? file.lastModifiedDate.toLocaleDateString() :\n",
              "                                    'n/a'} - `));\n",
              "    const percent = span('0% done');\n",
              "    li.appendChild(percent);\n",
              "\n",
              "    outputElement.appendChild(li);\n",
              "\n",
              "    const fileDataPromise = new Promise((resolve) => {\n",
              "      const reader = new FileReader();\n",
              "      reader.onload = (e) => {\n",
              "        resolve(e.target.result);\n",
              "      };\n",
              "      reader.readAsArrayBuffer(file);\n",
              "    });\n",
              "    // Wait for the data to be ready.\n",
              "    let fileData = yield {\n",
              "      promise: fileDataPromise,\n",
              "      response: {\n",
              "        action: 'continue',\n",
              "      }\n",
              "    };\n",
              "\n",
              "    // Use a chunked sending to avoid message size limits. See b/62115660.\n",
              "    let position = 0;\n",
              "    do {\n",
              "      const length = Math.min(fileData.byteLength - position, MAX_PAYLOAD_SIZE);\n",
              "      const chunk = new Uint8Array(fileData, position, length);\n",
              "      position += length;\n",
              "\n",
              "      const base64 = btoa(String.fromCharCode.apply(null, chunk));\n",
              "      yield {\n",
              "        response: {\n",
              "          action: 'append',\n",
              "          file: file.name,\n",
              "          data: base64,\n",
              "        },\n",
              "      };\n",
              "\n",
              "      let percentDone = fileData.byteLength === 0 ?\n",
              "          100 :\n",
              "          Math.round((position / fileData.byteLength) * 100);\n",
              "      percent.textContent = `${percentDone}% done`;\n",
              "\n",
              "    } while (position < fileData.byteLength);\n",
              "  }\n",
              "\n",
              "  // All done.\n",
              "  yield {\n",
              "    response: {\n",
              "      action: 'complete',\n",
              "    }\n",
              "  };\n",
              "}\n",
              "\n",
              "scope.google = scope.google || {};\n",
              "scope.google.colab = scope.google.colab || {};\n",
              "scope.google.colab._files = {\n",
              "  _uploadFiles,\n",
              "  _uploadFilesContinue,\n",
              "};\n",
              "})(self);\n",
              "</script> "
            ]
          },
          "metadata": {}
        },
        {
          "output_type": "stream",
          "name": "stdout",
          "text": [
            "Saving kaggle.json to kaggle.json\n"
          ]
        },
        {
          "output_type": "execute_result",
          "data": {
            "text/plain": [
              "{'kaggle.json': b'{\"username\":\"nikithaprincy\",\"key\":\"7e90162ab32db6e61baec9e3ffbd6676\"}'}"
            ]
          },
          "metadata": {},
          "execution_count": 2
        }
      ],
      "source": [
        "from google.colab import files\n",
        "files.upload()"
      ]
    },
    {
      "cell_type": "code",
      "execution_count": null,
      "metadata": {
        "id": "goT6mhtYP3-f"
      },
      "outputs": [],
      "source": [
        "!mkdir ~/.kaggle/"
      ]
    },
    {
      "cell_type": "code",
      "execution_count": null,
      "metadata": {
        "id": "bNwneky4P7bN"
      },
      "outputs": [],
      "source": [
        "!cp kaggle.json ~/.kaggle/\n",
        "!chmod 600 ~/.kaggle/kaggle.json"
      ]
    },
    {
      "cell_type": "code",
      "execution_count": null,
      "metadata": {
        "colab": {
          "base_uri": "https://localhost:8080/"
        },
        "id": "eeSCJcJ1QBx_",
        "outputId": "145f53e4-f268-4d37-8e21-179dbd7b2843"
      },
      "outputs": [
        {
          "output_type": "stream",
          "name": "stdout",
          "text": [
            "Downloading dogs-vs-cats.zip to /content\n",
            " 98% 793M/812M [00:04<00:00, 101MB/s] \n",
            "100% 812M/812M [00:04<00:00, 176MB/s]\n"
          ]
        }
      ],
      "source": [
        "!kaggle competitions download -c dogs-vs-cats"
      ]
    },
    {
      "cell_type": "code",
      "execution_count": null,
      "metadata": {
        "id": "22QdMqYrQEWg"
      },
      "outputs": [],
      "source": [
        "!unzip -qq dogs-vs-cats.zip"
      ]
    },
    {
      "cell_type": "code",
      "execution_count": null,
      "metadata": {
        "id": "n-8LTUGGQInU"
      },
      "outputs": [],
      "source": [
        "!unzip -qq train.zip"
      ]
    },
    {
      "cell_type": "markdown",
      "metadata": {
        "id": "3VlbI8Ukp1wM"
      },
      "source": [
        "#1. Consider The Cats & Dogs example. Start initially with a training sample of 1000, a validation sample of 500, and a test sample of 500."
      ]
    },
    {
      "cell_type": "markdown",
      "metadata": {
        "id": "Adx9VQvJjUmJ"
      },
      "source": [
        "Copying images to training,validation and test set."
      ]
    },
    {
      "cell_type": "code",
      "execution_count": null,
      "metadata": {
        "id": "repMHZN5folI"
      },
      "outputs": [],
      "source": [
        "import shutil\n",
        "from pathlib import Path\n",
        "\n",
        "original_dir = Path(\"train\")\n",
        "new_base_dir = Path(\"cats_vs_dogs_data_1\")\n",
        "\n",
        "def create_subset(subset_name, start_index, end_index):\n",
        "    for category in (\"cat\", \"dog\"):\n",
        "        dir_path = new_base_dir / subset_name / category\n",
        "        dir_path.mkdir(parents=True, exist_ok=True)  # Create directory if it doesn't exist\n",
        "        fileNames = [f\"{category}.{i}.jpg\" for i in range(start_index, end_index)]\n",
        "        for fileName in fileNames:\n",
        "            shutil.copyfile(src=original_dir / fileName,\n",
        "                            dst=dir_path / fileName)\n",
        "\n",
        "create_subset(\"train\", start_index=0, end_index=1000)\n",
        "create_subset(\"validation\", start_index=1000, end_index=1500)\n",
        "create_subset(\"test\", start_index=1500, end_index=2000)\n"
      ]
    },
    {
      "cell_type": "markdown",
      "metadata": {
        "id": "AWrB3ymtj2rs"
      },
      "source": [
        "Using convulational neural network."
      ]
    },
    {
      "cell_type": "code",
      "execution_count": null,
      "metadata": {
        "id": "nThRrsltie-Z",
        "colab": {
          "base_uri": "https://localhost:8080/"
        },
        "outputId": "108023ac-3fc9-4945-f4e6-53624c820b95"
      },
      "outputs": [
        {
          "output_type": "stream",
          "name": "stdout",
          "text": [
            "Model: \"model_1\"\n",
            "_________________________________________________________________\n",
            " Layer (type)                Output Shape              Param #   \n",
            "=================================================================\n",
            " input_2 (InputLayer)        [(None, 180, 180, 3)]     0         \n",
            "                                                                 \n",
            " rescaling_1 (Rescaling)     (None, 180, 180, 3)       0         \n",
            "                                                                 \n",
            " conv2d_5 (Conv2D)           (None, 178, 178, 32)      896       \n",
            "                                                                 \n",
            " max_pooling2d_4 (MaxPoolin  (None, 89, 89, 32)        0         \n",
            " g2D)                                                            \n",
            "                                                                 \n",
            " conv2d_6 (Conv2D)           (None, 87, 87, 64)        18496     \n",
            "                                                                 \n",
            " max_pooling2d_5 (MaxPoolin  (None, 43, 43, 64)        0         \n",
            " g2D)                                                            \n",
            "                                                                 \n",
            " conv2d_7 (Conv2D)           (None, 41, 41, 128)       73856     \n",
            "                                                                 \n",
            " max_pooling2d_6 (MaxPoolin  (None, 20, 20, 128)       0         \n",
            " g2D)                                                            \n",
            "                                                                 \n",
            " conv2d_8 (Conv2D)           (None, 18, 18, 256)       295168    \n",
            "                                                                 \n",
            " max_pooling2d_7 (MaxPoolin  (None, 9, 9, 256)         0         \n",
            " g2D)                                                            \n",
            "                                                                 \n",
            " conv2d_9 (Conv2D)           (None, 7, 7, 256)         590080    \n",
            "                                                                 \n",
            " flatten_1 (Flatten)         (None, 12544)             0         \n",
            "                                                                 \n",
            " dense_1 (Dense)             (None, 1)                 12545     \n",
            "                                                                 \n",
            "=================================================================\n",
            "Total params: 991041 (3.78 MB)\n",
            "Trainable params: 991041 (3.78 MB)\n",
            "Non-trainable params: 0 (0.00 Byte)\n",
            "_________________________________________________________________\n"
          ]
        }
      ],
      "source": [
        "import tensorflow as tf\n",
        "\n",
        "inputs = tf.keras.Input(shape=(180, 180, 3))\n",
        "preprocessed_inputs = tf.keras.layers.Rescaling(1./255)(inputs)\n",
        "conv_features = tf.keras.layers.Conv2D(filters=32, kernel_size=3, activation=\"relu\")(preprocessed_inputs)\n",
        "conv_features = tf.keras.layers.MaxPooling2D(pool_size=2)(conv_features)\n",
        "conv_features = tf.keras.layers.Conv2D(filters=64, kernel_size=3, activation=\"relu\")(conv_features)\n",
        "conv_features = tf.keras.layers.MaxPooling2D(pool_size=2)(conv_features)\n",
        "conv_features = tf.keras.layers.Conv2D(filters=128, kernel_size=3, activation=\"relu\")(conv_features)\n",
        "conv_features = tf.keras.layers.MaxPooling2D(pool_size=2)(conv_features)\n",
        "conv_features = tf.keras.layers.Conv2D(filters=256, kernel_size=3, activation=\"relu\")(conv_features)\n",
        "conv_features = tf.keras.layers.MaxPooling2D(pool_size=2)(conv_features)\n",
        "conv_features = tf.keras.layers.Conv2D(filters=256, kernel_size=3, activation=\"relu\")(conv_features)\n",
        "conv_features = tf.keras.layers.Flatten()(conv_features)\n",
        "outputs = tf.keras.layers.Dense(1, activation=\"sigmoid\")(conv_features)\n",
        "model = tf.keras.Model(inputs=inputs, outputs=outputs)\n",
        "model.summary()"
      ]
    },
    {
      "cell_type": "markdown",
      "metadata": {
        "id": "YQPCL3iWlPth"
      },
      "source": [
        "Configures the model to use binary cross-entropy as the loss function, RMSprop as the optimizer, and accuracy as the evaluation metric"
      ]
    },
    {
      "cell_type": "code",
      "execution_count": null,
      "metadata": {
        "id": "qSVlkcAJzKlG"
      },
      "outputs": [],
      "source": [
        "model.compile(loss=\"binary_crossentropy\",\n",
        "              optimizer=\"rmsprop\",\n",
        "              metrics=[\"accuracy\"])"
      ]
    },
    {
      "cell_type": "markdown",
      "metadata": {
        "id": "M1-sS3uzkl0N"
      },
      "source": [
        "It can be observed that,model might overfit,thus,we use regularization technique in the stage of DATA PREPROCESSING."
      ]
    },
    {
      "cell_type": "markdown",
      "metadata": {
        "id": "kZxekgoskz8X"
      },
      "source": [
        "creates three datasets: train_image_dataset, validation_image_dataset, and test_image_dataset"
      ]
    },
    {
      "cell_type": "code",
      "execution_count": null,
      "metadata": {
        "colab": {
          "base_uri": "https://localhost:8080/"
        },
        "id": "m0SXDMmAzN6o",
        "outputId": "2a8765e2-6ee4-4137-ffad-dd76ba0d7010"
      },
      "outputs": [
        {
          "output_type": "stream",
          "name": "stdout",
          "text": [
            "Found 2000 files belonging to 2 classes.\n",
            "Found 1000 files belonging to 2 classes.\n",
            "Found 1000 files belonging to 2 classes.\n"
          ]
        }
      ],
      "source": [
        "\n",
        "train_image_dataset = tf.keras.utils.image_dataset_from_directory(\n",
        "    directory=new_base_dir / \"train\",\n",
        "    image_size=(180, 180),\n",
        "    batch_size=32)\n",
        "validation_image_dataset = tf.keras.utils.image_dataset_from_directory(\n",
        "    directory=new_base_dir / \"validation\",\n",
        "    image_size=(180, 180),\n",
        "    batch_size=32)\n",
        "test_image_dataset = tf.keras.utils.image_dataset_from_directory(\n",
        "    directory=new_base_dir / \"test\",\n",
        "    image_size=(180, 180),\n",
        "    batch_size=32)"
      ]
    },
    {
      "cell_type": "markdown",
      "metadata": {
        "id": "ZirGkq0QlRc2"
      },
      "source": [
        "callback can be used to save the model's weights after every epoch or to stop training early if the model is not improving. Additionally, callbacks can be used to log metrics, visualize the model's performance, or schedule learning rate changes."
      ]
    },
    {
      "cell_type": "code",
      "execution_count": null,
      "metadata": {
        "colab": {
          "base_uri": "https://localhost:8080/"
        },
        "id": "ZDAW00mgzQpG",
        "outputId": "43860e85-e0b2-41eb-b18b-88a9c118afbe"
      },
      "outputs": [
        {
          "output_type": "stream",
          "name": "stdout",
          "text": [
            "Epoch 1/10\n",
            "63/63 [==============================] - 13s 105ms/step - loss: 0.7040 - accuracy: 0.5035 - val_loss: 0.6912 - val_accuracy: 0.5850\n",
            "Epoch 2/10\n",
            "63/63 [==============================] - 4s 64ms/step - loss: 0.6951 - accuracy: 0.5270 - val_loss: 0.6890 - val_accuracy: 0.5090\n",
            "Epoch 3/10\n",
            "63/63 [==============================] - 7s 104ms/step - loss: 0.7013 - accuracy: 0.5740 - val_loss: 0.7068 - val_accuracy: 0.5040\n",
            "Epoch 4/10\n",
            "63/63 [==============================] - 4s 62ms/step - loss: 0.6748 - accuracy: 0.5970 - val_loss: 0.6277 - val_accuracy: 0.6590\n",
            "Epoch 5/10\n",
            "63/63 [==============================] - 6s 87ms/step - loss: 0.6218 - accuracy: 0.6425 - val_loss: 0.6710 - val_accuracy: 0.6020\n",
            "Epoch 6/10\n",
            "63/63 [==============================] - 6s 90ms/step - loss: 0.5886 - accuracy: 0.6910 - val_loss: 0.6093 - val_accuracy: 0.6540\n",
            "Epoch 7/10\n",
            "63/63 [==============================] - 4s 62ms/step - loss: 0.5543 - accuracy: 0.7220 - val_loss: 0.5850 - val_accuracy: 0.7040\n",
            "Epoch 8/10\n",
            "63/63 [==============================] - 4s 63ms/step - loss: 0.5308 - accuracy: 0.7235 - val_loss: 0.6009 - val_accuracy: 0.6770\n",
            "Epoch 9/10\n",
            "63/63 [==============================] - 7s 105ms/step - loss: 0.5076 - accuracy: 0.7495 - val_loss: 0.5582 - val_accuracy: 0.7000\n",
            "Epoch 10/10\n",
            "63/63 [==============================] - 4s 63ms/step - loss: 0.4491 - accuracy: 0.7930 - val_loss: 0.5376 - val_accuracy: 0.7330\n"
          ]
        }
      ],
      "source": [
        "\n",
        "callbacks = [\n",
        "    tf.keras.callbacks.ModelCheckpoint(\n",
        "        filepath=\"best_model_convnet_from_scratch_1.keras\",\n",
        "        save_best_only=True,\n",
        "        monitor=\"val_loss\")\n",
        "]\n",
        "\n",
        "history = model.fit(\n",
        "    train_image_dataset,\n",
        "    epochs=10,\n",
        "    validation_data=validation_image_dataset,\n",
        "    callbacks=callbacks)"
      ]
    },
    {
      "cell_type": "markdown",
      "metadata": {
        "id": "1A1IfEZdqvkx"
      },
      "source": [
        "load the saved model and evaluate its performance on the test dataset:"
      ]
    },
    {
      "cell_type": "code",
      "execution_count": null,
      "metadata": {
        "colab": {
          "base_uri": "https://localhost:8080/"
        },
        "id": "RTvbHQ_nzf9d",
        "outputId": "e43fbb62-026b-4fde-c256-a2a44f843a71"
      },
      "outputs": [
        {
          "output_type": "stream",
          "name": "stdout",
          "text": [
            "32/32 [==============================] - 3s 63ms/step - loss: 0.5546 - accuracy: 0.7240\n",
            "Test accuracy: 0.724\n"
          ]
        }
      ],
      "source": [
        "\n",
        "test_model = tf.keras.models.load_model(\"best_model_convnet_from_scratch_1.keras\")\n",
        "test_loss, test_acc = test_model.evaluate(test_image_dataset)\n",
        "print(f\"Test accuracy: {test_acc:.3f}\")"
      ]
    },
    {
      "cell_type": "markdown",
      "metadata": {
        "id": "o_cp9IS2lvvj"
      },
      "source": [
        "Accuracy=79.3%\n",
        "Validation Accuracy=73.3%\n",
        "Test Accuracy=72.4%"
      ]
    },
    {
      "cell_type": "markdown",
      "metadata": {
        "id": "wVUvN-T-p3UW"
      },
      "source": [
        "plot the training and validation accuracy, as well as the training and validation loss, over epochs using Matplotlib."
      ]
    },
    {
      "cell_type": "code",
      "execution_count": null,
      "metadata": {
        "colab": {
          "base_uri": "https://localhost:8080/",
          "height": 887
        },
        "id": "TbQ4m94kzVg9",
        "outputId": "eeb26c25-3cfc-47d5-acfa-0fcafd9e9c48"
      },
      "outputs": [
        {
          "output_type": "display_data",
          "data": {
            "text/plain": [
              "<Figure size 640x480 with 1 Axes>"
            ],
            "image/png": "[encoded data removed]"
          },
          "metadata": {}
        },
        {
          "output_type": "display_data",
          "data": {
            "text/plain": [
              "<Figure size 640x480 with 1 Axes>"
            ],
            "image/png": "[encoded data removed]"
          },
          "metadata": {}
        }
      ],
      "source": [
        "\n",
        "import matplotlib.pyplot as plt\n",
        "accuracy = history.history[\"accuracy\"]\n",
        "val_accuracy = history.history[\"val_accuracy\"]\n",
        "loss = history.history[\"loss\"]\n",
        "val_loss = history.history[\"val_loss\"]\n",
        "epochs = range(1, len(accuracy) + 1)\n",
        "plt.plot(epochs, accuracy, \"bo\", label=\"Training accuracy\")\n",
        "plt.plot(epochs, val_accuracy, \"b\", label=\"Validation accuracy\")\n",
        "plt.title(\"Training and validation accuracy\")\n",
        "plt.legend()\n",
        "plt.figure()\n",
        "plt.plot(epochs, loss, \"bo\", label=\"Training loss\")\n",
        "plt.plot(epochs, val_loss, \"b\", label=\"Validation loss\")\n",
        "plt.title(\"Training and validation loss\")\n",
        "plt.legend()\n",
        "plt.show()"
      ]
    },
    {
      "cell_type": "markdown",
      "metadata": {
        "id": "d-r4OSJas7aC"
      },
      "source": [
        "#Data Augmentation"
      ]
    },
    {
      "cell_type": "markdown",
      "metadata": {
        "id": "AxtfciqimEPU"
      },
      "source": [
        "Data augmentation is a technique that generates new and modified versions of the original data to increase the size of a training set. This helps reduce overfitting and improve the model's generalization ability."
      ]
    },
    {
      "cell_type": "code",
      "execution_count": null,
      "metadata": {
        "id": "KAe8NjC9zwxg",
        "colab": {
          "base_uri": "https://localhost:8080/"
        },
        "outputId": "5edfd062-9d82-4bf4-960f-19a316357780"
      },
      "outputs": [
        {
          "output_type": "stream",
          "name": "stdout",
          "text": [
            "Epoch 1/10\n",
            "63/63 [==============================] - 9s 68ms/step - loss: 0.6981 - accuracy: 0.5005 - val_loss: 0.6925 - val_accuracy: 0.5030\n",
            "Epoch 2/10\n",
            "63/63 [==============================] - 4s 65ms/step - loss: 0.6958 - accuracy: 0.5070 - val_loss: 0.6908 - val_accuracy: 0.5810\n",
            "Epoch 3/10\n",
            "63/63 [==============================] - 7s 109ms/step - loss: 0.6903 - accuracy: 0.5455 - val_loss: 0.7051 - val_accuracy: 0.5000\n",
            "Epoch 4/10\n",
            "63/63 [==============================] - 4s 65ms/step - loss: 0.6835 - accuracy: 0.5610 - val_loss: 0.6640 - val_accuracy: 0.6230\n",
            "Epoch 5/10\n",
            "63/63 [==============================] - 5s 77ms/step - loss: 0.6614 - accuracy: 0.6260 - val_loss: 0.6362 - val_accuracy: 0.6510\n",
            "Epoch 6/10\n",
            "63/63 [==============================] - 7s 105ms/step - loss: 0.6327 - accuracy: 0.6545 - val_loss: 0.6609 - val_accuracy: 0.6270\n",
            "Epoch 7/10\n",
            "63/63 [==============================] - 6s 90ms/step - loss: 0.6363 - accuracy: 0.6500 - val_loss: 0.5989 - val_accuracy: 0.6640\n",
            "Epoch 8/10\n",
            "63/63 [==============================] - 5s 76ms/step - loss: 0.6070 - accuracy: 0.6705 - val_loss: 0.6062 - val_accuracy: 0.6580\n",
            "Epoch 9/10\n",
            "63/63 [==============================] - 8s 119ms/step - loss: 0.6154 - accuracy: 0.6610 - val_loss: 0.6048 - val_accuracy: 0.6570\n",
            "Epoch 10/10\n",
            "63/63 [==============================] - 4s 66ms/step - loss: 0.5925 - accuracy: 0.6775 - val_loss: 0.6498 - val_accuracy: 0.6520\n"
          ]
        }
      ],
      "source": [
        "data_augmentation = tf.keras.Sequential([\n",
        "    tf.keras.layers.RandomFlip(\"horizontal\"),\n",
        "    tf.keras.layers.RandomRotation(0.1),\n",
        "    tf.keras.layers.RandomZoom(0.2)\n",
        "])\n",
        "\n",
        "inputs = tf.keras.Input(shape=(180, 180, 3))\n",
        "input = data_augmentation(inputs)\n",
        "preprocessed_inputs = tf.keras.layers.Rescaling(1./255)(input)\n",
        "conv_features = tf.keras.layers.Conv2D(filters=32, kernel_size=3, activation=\"relu\")(preprocessed_inputs)\n",
        "conv_features = tf.keras.layers.MaxPooling2D(pool_size=2)(conv_features)\n",
        "conv_features = tf.keras.layers.Conv2D(filters=64, kernel_size=3, activation=\"relu\")(conv_features)\n",
        "conv_features = tf.keras.layers.MaxPooling2D(pool_size=2)(conv_features)\n",
        "conv_features = tf.keras.layers.Conv2D(filters=128, kernel_size=3, activation=\"relu\")(conv_features)\n",
        "conv_features = tf.keras.layers.MaxPooling2D(pool_size=2)(conv_features)\n",
        "conv_features = tf.keras.layers.Conv2D(filters=256, kernel_size=3, activation=\"relu\")(conv_features)\n",
        "conv_features = tf.keras.layers.MaxPooling2D(pool_size=2)(conv_features)\n",
        "conv_features = tf.keras.layers.Conv2D(filters=256, kernel_size=3, activation=\"relu\")(conv_features)\n",
        "conv_features = tf.keras.layers.Flatten()(conv_features)\n",
        "conv_features = tf.keras.layers.Dropout(0.5)(conv_features)\n",
        "outputs = tf.keras.layers.Dense(1, activation=\"sigmoid\")(conv_features)\n",
        "model = tf.keras.Model(inputs=inputs, outputs=outputs)\n",
        "\n",
        "model.compile(loss=\"binary_crossentropy\",\n",
        "              optimizer=\"rmsprop\",\n",
        "              metrics=[\"accuracy\"])\n",
        "callbacks = [\n",
        "    tf.keras.callbacks.ModelCheckpoint(\n",
        "        filepath=\"convnet_from_scratch_with_augmentation_1.keras\",\n",
        "        save_best_only=True,\n",
        "        monitor=\"val_loss\")\n",
        "]\n",
        "history = model.fit(\n",
        "    train_image_dataset,\n",
        "    epochs=10,\n",
        "    validation_data=validation_image_dataset,\n",
        "    callbacks=callbacks)\n"
      ]
    },
    {
      "cell_type": "markdown",
      "metadata": {
        "id": "slxlwnT9mZR4"
      },
      "source": [
        "data augmentation to the model did not bring any better results,but yet can be checked by increasing the training sample size and trying on data augmentation on it."
      ]
    },
    {
      "cell_type": "markdown",
      "metadata": {
        "id": "3JsM0HXetkF_"
      },
      "source": [
        "Accuracy=67.7%\n",
        "Validation Accuracy=65.2%\n",
        "Test Accuracy=72.5%"
      ]
    },
    {
      "cell_type": "code",
      "execution_count": null,
      "metadata": {
        "colab": {
          "base_uri": "https://localhost:8080/"
        },
        "id": "MzTumxSy0BP-",
        "outputId": "3cc3987d-90b6-4be2-e4f8-3cbfebaf2b42"
      },
      "outputs": [
        {
          "output_type": "stream",
          "name": "stdout",
          "text": [
            "32/32 [==============================] - 3s 57ms/step - loss: 0.6189 - accuracy: 0.6510\n",
            "Test accuracy: 0.651\n"
          ]
        }
      ],
      "source": [
        "\n",
        "test_model = tf.keras.models.load_model(\n",
        "    \"convnet_from_scratch_with_augmentation_1.keras\")\n",
        "test_loss, test_acc = test_model.evaluate(test_image_dataset)\n",
        "print(f\"Test accuracy: {test_acc:.3f}\")"
      ]
    },
    {
      "cell_type": "markdown",
      "metadata": {
        "id": "hIzLY25lnF23"
      },
      "source": [
        "test accuracy was not improved"
      ]
    },
    {
      "cell_type": "markdown",
      "metadata": {
        "id": "w6Sl6UtbnTuE"
      },
      "source": [
        "#2)Increase training sample size."
      ]
    },
    {
      "cell_type": "markdown",
      "metadata": {
        "id": "v9_TgaZinT0n"
      },
      "source": [
        "Attempted to increase training sample size from 1000 to 1500."
      ]
    },
    {
      "cell_type": "code",
      "execution_count": null,
      "metadata": {
        "id": "dO4Vbaw50Eo-"
      },
      "outputs": [],
      "source": [
        "\n",
        "import shutil\n",
        "from pathlib import Path\n",
        "\n",
        "original_dir = Path(\"train\")\n",
        "new_base_dir = Path(\"cats_vs_dogs_data_2\")\n",
        "\n",
        "def create_subset(subset_name, start_index, end_index):\n",
        "    for category in (\"cat\", \"dog\"):\n",
        "        dir_path = new_base_dir / subset_name / category\n",
        "        dir_path.mkdir(parents=True, exist_ok=True)  # Create directory if it doesn't exist\n",
        "        fileNames = [f\"{category}.{i}.jpg\" for i in range(start_index, end_index)]\n",
        "        for fileName in fileNames:\n",
        "            shutil.copyfile(src=original_dir / fileName,\n",
        "                            dst=dir_path / fileName)\n",
        "\n",
        "create_subset(\"train\", start_index=0, end_index=1500)\n",
        "create_subset(\"validation\", start_index=1500, end_index=2000)\n",
        "create_subset(\"test\", start_index=2000, end_index=2500)"
      ]
    },
    {
      "cell_type": "code",
      "execution_count": null,
      "metadata": {
        "colab": {
          "base_uri": "https://localhost:8080/"
        },
        "id": "t_5GYUQ30M0d",
        "outputId": "d8409e1e-b6fe-4c70-8dc7-4174493f1894"
      },
      "outputs": [
        {
          "output_type": "stream",
          "name": "stdout",
          "text": [
            "Found 3000 files belonging to 2 classes.\n",
            "Found 1000 files belonging to 2 classes.\n",
            "Found 1000 files belonging to 2 classes.\n"
          ]
        }
      ],
      "source": [
        "\n",
        "train_image_dataset = tf.keras.utils.image_dataset_from_directory(\n",
        "    directory=new_base_dir / \"train\",\n",
        "    image_size=(180, 180),\n",
        "    batch_size=32)\n",
        "validation_image_dataset = tf.keras.utils.image_dataset_from_directory(\n",
        "    directory=new_base_dir / \"validation\",\n",
        "    image_size=(180, 180),\n",
        "    batch_size=32)\n",
        "test_image_dataset = tf.keras.utils.image_dataset_from_directory(\n",
        "    directory=new_base_dir / \"test\",\n",
        "    image_size=(180, 180),\n",
        "    batch_size=32)"
      ]
    },
    {
      "cell_type": "code",
      "execution_count": null,
      "metadata": {
        "id": "mIaeIzz81QdB",
        "colab": {
          "base_uri": "https://localhost:8080/"
        },
        "outputId": "6dd8a9cd-4f50-4e0b-8e7b-354572f3d3d9"
      },
      "outputs": [
        {
          "output_type": "stream",
          "name": "stdout",
          "text": [
            "Epoch 1/10\n",
            "94/94 [==============================] - 7s 60ms/step - loss: 0.6921 - accuracy: 0.5343 - val_loss: 0.6786 - val_accuracy: 0.5600\n",
            "Epoch 2/10\n",
            "94/94 [==============================] - 9s 92ms/step - loss: 0.6652 - accuracy: 0.6110 - val_loss: 0.6443 - val_accuracy: 0.6470\n",
            "Epoch 3/10\n",
            "94/94 [==============================] - 6s 56ms/step - loss: 0.6177 - accuracy: 0.6670 - val_loss: 0.5994 - val_accuracy: 0.6820\n",
            "Epoch 4/10\n",
            "94/94 [==============================] - 6s 65ms/step - loss: 0.5542 - accuracy: 0.7137 - val_loss: 0.5909 - val_accuracy: 0.6960\n",
            "Epoch 5/10\n",
            "94/94 [==============================] - 8s 84ms/step - loss: 0.5326 - accuracy: 0.7283 - val_loss: 0.6090 - val_accuracy: 0.6690\n",
            "Epoch 6/10\n",
            "94/94 [==============================] - 6s 56ms/step - loss: 0.4910 - accuracy: 0.7643 - val_loss: 0.6081 - val_accuracy: 0.6880\n",
            "Epoch 7/10\n",
            "94/94 [==============================] - 8s 82ms/step - loss: 0.4519 - accuracy: 0.7903 - val_loss: 0.5328 - val_accuracy: 0.7440\n",
            "Epoch 8/10\n",
            "94/94 [==============================] - 7s 64ms/step - loss: 0.4070 - accuracy: 0.8143 - val_loss: 0.5304 - val_accuracy: 0.7510\n",
            "Epoch 9/10\n",
            "94/94 [==============================] - 6s 56ms/step - loss: 0.3718 - accuracy: 0.8330 - val_loss: 0.5168 - val_accuracy: 0.7380\n",
            "Epoch 10/10\n",
            "94/94 [==============================] - 10s 102ms/step - loss: 0.3085 - accuracy: 0.8680 - val_loss: 0.7065 - val_accuracy: 0.7260\n"
          ]
        }
      ],
      "source": [
        "inputs = tf.keras.Input(shape=(180, 180, 3))\n",
        "preprocessed_inputs = tf.keras.layers.Rescaling(1./255)(inputs)\n",
        "conv_features = tf.keras.layers.Conv2D(filters=32, kernel_size=3, activation=\"relu\")(preprocessed_inputs)\n",
        "conv_features = tf.keras.layers.MaxPooling2D(pool_size=2)(conv_features)\n",
        "conv_features = tf.keras.layers.Conv2D(filters=64, kernel_size=3, activation=\"relu\")(conv_features)\n",
        "conv_features = tf.keras.layers.MaxPooling2D(pool_size=2)(conv_features)\n",
        "conv_features = tf.keras.layers.Conv2D(filters=128, kernel_size=3, activation=\"relu\")(conv_features)\n",
        "conv_features = tf.keras.layers.MaxPooling2D(pool_size=2)(conv_features)\n",
        "conv_features = tf.keras.layers.Conv2D(filters=256, kernel_size=3, activation=\"relu\")(conv_features)\n",
        "conv_features = tf.keras.layers.MaxPooling2D(pool_size=2)(conv_features)\n",
        "conv_features = tf.keras.layers.Conv2D(filters=256, kernel_size=3, activation=\"relu\")(conv_features)\n",
        "conv_features = tf.keras.layers.Flatten()(conv_features)\n",
        "outputs = tf.keras.layers.Dense(1, activation=\"sigmoid\")(conv_features)\n",
        "model = tf.keras.Model(inputs=inputs, outputs=outputs)\n",
        "\n",
        "model.compile(loss=\"binary_crossentropy\",\n",
        "              optimizer=\"rmsprop\",\n",
        "              metrics=[\"accuracy\"])\n",
        "callbacks = [\n",
        "    tf.keras.callbacks.ModelCheckpoint(\n",
        "        filepath=\"convnet_from_scratch2.keras\",\n",
        "        save_best_only=True,\n",
        "        monitor=\"val_loss\")\n",
        "]\n",
        "history = model.fit(\n",
        "    train_image_dataset,\n",
        "    epochs=10,\n",
        "    validation_data=validation_image_dataset,\n",
        "    callbacks=callbacks)"
      ]
    },
    {
      "cell_type": "code",
      "execution_count": null,
      "metadata": {
        "colab": {
          "base_uri": "https://localhost:8080/"
        },
        "id": "OBQjAUI41WP_",
        "outputId": "38e24f93-0601-46bd-9b2f-fe67b81f6704"
      },
      "outputs": [
        {
          "output_type": "stream",
          "name": "stdout",
          "text": [
            "32/32 [==============================] - 2s 32ms/step - loss: 0.4939 - accuracy: 0.7760\n",
            "Test accuracy: 0.776\n"
          ]
        }
      ],
      "source": [
        "test_model = tf.keras.models.load_model(\n",
        "    \"convnet_from_scratch2.keras\")\n",
        "test_loss, test_acc = test_model.evaluate(test_image_dataset)\n",
        "print(f\"Test accuracy: {test_acc:.3f}\")"
      ]
    },
    {
      "cell_type": "markdown",
      "metadata": {
        "id": "RroS5L3Yn057"
      },
      "source": [
        "Accuracy=86.8%\n",
        "Validation Accuracy=72.6%\n",
        "Test Accuracy=77.6%"
      ]
    },
    {
      "cell_type": "markdown",
      "metadata": {
        "id": "9n1gpXazuhgs"
      },
      "source": [
        "##using data augmentation"
      ]
    },
    {
      "cell_type": "code",
      "execution_count": null,
      "metadata": {
        "id": "HL7UajML1dZN",
        "colab": {
          "base_uri": "https://localhost:8080/"
        },
        "outputId": "4cfddf0b-85d8-480f-da06-70e387065e1f"
      },
      "outputs": [
        {
          "output_type": "stream",
          "name": "stdout",
          "text": [
            "Epoch 1/10\n",
            "94/94 [==============================] - 9s 60ms/step - loss: 0.6946 - accuracy: 0.5010 - val_loss: 0.6935 - val_accuracy: 0.5000\n",
            "Epoch 2/10\n",
            "94/94 [==============================] - 9s 89ms/step - loss: 0.6936 - accuracy: 0.4843 - val_loss: 0.6931 - val_accuracy: 0.5000\n",
            "Epoch 3/10\n",
            "94/94 [==============================] - 6s 57ms/step - loss: 0.6933 - accuracy: 0.4967 - val_loss: 0.6931 - val_accuracy: 0.4870\n",
            "Epoch 4/10\n",
            "94/94 [==============================] - 6s 56ms/step - loss: 0.6937 - accuracy: 0.5017 - val_loss: 0.6932 - val_accuracy: 0.5000\n",
            "Epoch 5/10\n",
            "94/94 [==============================] - 9s 91ms/step - loss: 0.6933 - accuracy: 0.4887 - val_loss: 0.6931 - val_accuracy: 0.5000\n",
            "Epoch 6/10\n",
            "94/94 [==============================] - 6s 57ms/step - loss: 0.6932 - accuracy: 0.4917 - val_loss: 0.6931 - val_accuracy: 0.5000\n",
            "Epoch 7/10\n",
            "94/94 [==============================] - 9s 85ms/step - loss: 0.6932 - accuracy: 0.4923 - val_loss: 0.6931 - val_accuracy: 0.5050\n",
            "Epoch 8/10\n",
            "94/94 [==============================] - 5s 52ms/step - loss: 0.6933 - accuracy: 0.4867 - val_loss: 0.6931 - val_accuracy: 0.5000\n",
            "Epoch 9/10\n",
            "94/94 [==============================] - 7s 65ms/step - loss: 0.6915 - accuracy: 0.5090 - val_loss: 0.6933 - val_accuracy: 0.4980\n",
            "Epoch 10/10\n",
            "94/94 [==============================] - 9s 91ms/step - loss: 0.6952 - accuracy: 0.4960 - val_loss: 0.6895 - val_accuracy: 0.5060\n"
          ]
        }
      ],
      "source": [
        "data_augmentation = tf.keras.Sequential(\n",
        "    [\n",
        "        tf.keras.layers.RandomFlip(\"horizontal\"),\n",
        "        tf.keras.layers.RandomRotation(0.1),\n",
        "        tf.keras.layers.RandomZoom(0.2),\n",
        "    ]\n",
        ")\n",
        "\n",
        "inputs = tf.keras.Input(shape=(180, 180, 3))\n",
        "input = data_augmentation(inputs)\n",
        "preprocessed_inputs = tf.keras.layers.Rescaling(1./255)(input)\n",
        "conv_features = tf.keras.layers.Conv2D(filters=32, kernel_size=3, activation=\"relu\")(preprocessed_inputs)\n",
        "conv_features = tf.keras.layers.MaxPooling2D(pool_size=2)(conv_features)\n",
        "conv_features = tf.keras.layers.Conv2D(filters=64, kernel_size=3, activation=\"relu\")(conv_features)\n",
        "conv_features = tf.keras.layers.MaxPooling2D(pool_size=2)(conv_features)\n",
        "conv_features = tf.keras.layers.Conv2D(filters=128, kernel_size=3, activation=\"relu\")(conv_features)\n",
        "conv_features = tf.keras.layers.MaxPooling2D(pool_size=2)(conv_features)\n",
        "conv_features = tf.keras.layers.Conv2D(filters=256, kernel_size=3, activation=\"relu\")(conv_features)\n",
        "conv_features = tf.keras.layers.MaxPooling2D(pool_size=2)(conv_features)\n",
        "conv_features = tf.keras.layers.Conv2D(filters=256, kernel_size=3, activation=\"relu\")(conv_features)\n",
        "conv_features = tf.keras.layers.Flatten()(conv_features)\n",
        "conv_features = tf.keras.layers.Dropout(0.5)(conv_features)\n",
        "outputs = tf.keras.layers.Dense(1, activation=\"sigmoid\")(conv_features)\n",
        "model = tf.keras.Model(inputs=inputs, outputs=outputs)\n",
        "\n",
        "model.compile(loss=\"binary_crossentropy\",\n",
        "              optimizer=\"adam\",\n",
        "              metrics=[\"accuracy\"])\n",
        "\n",
        "callbacks = [\n",
        "    tf.keras.callbacks.ModelCheckpoint(\n",
        "        filepath=\"convnet_from_scratch_with_augmentation_2.keras\",\n",
        "        save_best_only=True,\n",
        "        monitor=\"val_loss\")\n",
        "]\n",
        "history = model.fit(\n",
        "    train_image_dataset,\n",
        "    epochs=10,\n",
        "    validation_data=validation_image_dataset,\n",
        "    callbacks=callbacks)"
      ]
    },
    {
      "cell_type": "code",
      "execution_count": null,
      "metadata": {
        "colab": {
          "base_uri": "https://localhost:8080/"
        },
        "id": "_Yoobnl81i6_",
        "outputId": "e720d872-e545-4068-f5eb-e9a76234ac7a"
      },
      "outputs": [
        {
          "output_type": "stream",
          "name": "stdout",
          "text": [
            "32/32 [==============================] - 1s 30ms/step - loss: 0.6925 - accuracy: 0.5000\n",
            "Test accuracy: 0.500\n"
          ]
        }
      ],
      "source": [
        "\n",
        "test_model = tf.keras.models.load_model(\n",
        "    \"convnet_from_scratch_with_augmentation_2.keras\")\n",
        "test_loss, test_acc = test_model.evaluate(test_image_dataset)\n",
        "print(f\"Test accuracy: {test_acc:.3f}\")"
      ]
    },
    {
      "cell_type": "markdown",
      "metadata": {
        "id": "SJm_AdHtupyP"
      },
      "source": [
        "Accuracy=49.6%\n",
        "Validation Accuracy=50.6%\n",
        "Test Accuracy=50.6%"
      ]
    },
    {
      "cell_type": "markdown",
      "metadata": {
        "id": "fV79oAw9v05i"
      },
      "source": [
        "#3. Finding the ideal training sample size"
      ]
    },
    {
      "cell_type": "markdown",
      "metadata": {
        "id": "PAxxdZYfv1Nx"
      },
      "source": [
        "We set the training, validation, and test set sizes, respectively, to 1500, 1000, and 500."
      ]
    },
    {
      "cell_type": "code",
      "execution_count": null,
      "metadata": {
        "id": "o41aUwYt1oXz"
      },
      "outputs": [],
      "source": [
        "\n",
        "import shutil\n",
        "from pathlib import Path\n",
        "\n",
        "original_dir = Path(\"train\")\n",
        "new_base_dir = Path(\"cats_vs_dogs_data_3\")\n",
        "\n",
        "def create_subset(subset_name, start_index, end_index):\n",
        "    for category in (\"cat\", \"dog\"):\n",
        "        dir_path = new_base_dir / subset_name / category\n",
        "        dir_path.mkdir(parents=True, exist_ok=True)  # Create directory if it doesn't exist\n",
        "        fileNames = [f\"{category}.{i}.jpg\" for i in range(start_index, end_index)]\n",
        "        for fileName in fileNames:\n",
        "            shutil.copyfile(src=original_dir / fileName,\n",
        "                            dst=dir_path / fileName)\n",
        "\n",
        "create_subset(\"train\", start_index=0, end_index=1500)\n",
        "create_subset(\"validation\", start_index=1500, end_index=2500)\n",
        "create_subset(\"test\", start_index=2500, end_index=3000)"
      ]
    },
    {
      "cell_type": "code",
      "execution_count": null,
      "metadata": {
        "colab": {
          "base_uri": "https://localhost:8080/"
        },
        "id": "lkwVQ6_I1wMp",
        "outputId": "9f94af05-1b8d-41d7-9c51-b2b4732ad973"
      },
      "outputs": [
        {
          "output_type": "stream",
          "name": "stdout",
          "text": [
            "Found 3000 files belonging to 2 classes.\n",
            "Found 2000 files belonging to 2 classes.\n",
            "Found 1000 files belonging to 2 classes.\n"
          ]
        }
      ],
      "source": [
        "train_image_dataset = tf.keras.utils.image_dataset_from_directory(\n",
        "    directory=new_base_dir / \"train\",\n",
        "    image_size=(180, 180),\n",
        "    batch_size=32)\n",
        "validation_image_dataset = tf.keras.utils.image_dataset_from_directory(\n",
        "    directory=new_base_dir / \"validation\",\n",
        "    image_size=(180, 180),\n",
        "    batch_size=32)\n",
        "test_image_dataset = tf.keras.utils.image_dataset_from_directory(\n",
        "    directory=new_base_dir / \"test\",\n",
        "    image_size=(180, 180),\n",
        "    batch_size=32)"
      ]
    },
    {
      "cell_type": "code",
      "execution_count": null,
      "metadata": {
        "id": "FF2P2yvv1yt5"
      },
      "outputs": [],
      "source": [
        "inputs = tf.keras.Input(shape=(180, 180, 3))\n",
        "inputs = tf.keras.Input(shape=(180, 180, 3))\n",
        "preprocessed_inputs = tf.keras.layers.Rescaling(1./255)(inputs)\n",
        "conv_features = tf.keras.layers.Conv2D(filters=32, kernel_size=3, activation=\"relu\")(preprocessed_inputs)\n",
        "conv_features = tf.keras.layers.MaxPooling2D(pool_size=2)(conv_features)\n",
        "conv_features = tf.keras.layers.Conv2D(filters=64, kernel_size=3, activation=\"relu\")(conv_features)\n",
        "conv_features = tf.keras.layers.MaxPooling2D(pool_size=2)(conv_features)\n",
        "conv_features = tf.keras.layers.Conv2D(filters=128, kernel_size=3, activation=\"relu\")(conv_features)\n",
        "conv_features = tf.keras.layers.MaxPooling2D(pool_size=2)(conv_features)\n",
        "conv_features = tf.keras.layers.Conv2D(filters=256, kernel_size=3, activation=\"relu\")(conv_features)\n",
        "conv_features = tf.keras.layers.MaxPooling2D(pool_size=2)(conv_features)\n",
        "conv_features = tf.keras.layers.Conv2D(filters=256, kernel_size=3, activation=\"relu\")(conv_features)\n",
        "conv_features = tf.keras.layers.Flatten()(conv_features)\n",
        "outputs = tf.keras.layers.Dense(1, activation=\"sigmoid\")(conv_features)\n",
        "model = tf.keras.Model(inputs=inputs, outputs=outputs)\n",
        "\n",
        "model.compile(loss=\"binary_crossentropy\",\n",
        "              optimizer=\"rmsprop\",\n",
        "              metrics=[\"accuracy\"])\n"
      ]
    },
    {
      "cell_type": "code",
      "execution_count": null,
      "metadata": {
        "colab": {
          "base_uri": "https://localhost:8080/"
        },
        "id": "H-9wYXHQ11Lc",
        "outputId": "1b1c22f2-449a-44a7-ce1f-1026dff6c7ef"
      },
      "outputs": [
        {
          "output_type": "stream",
          "name": "stdout",
          "text": [
            "Epoch 1/10\n",
            "94/94 [==============================] - 12s 108ms/step - loss: 0.7011 - accuracy: 0.5137 - val_loss: 0.6888 - val_accuracy: 0.6455\n",
            "Epoch 2/10\n",
            "94/94 [==============================] - 10s 105ms/step - loss: 0.6802 - accuracy: 0.5800 - val_loss: 0.6542 - val_accuracy: 0.6140\n",
            "Epoch 3/10\n",
            "94/94 [==============================] - 7s 69ms/step - loss: 0.6341 - accuracy: 0.6420 - val_loss: 0.6135 - val_accuracy: 0.6605\n",
            "Epoch 4/10\n",
            "94/94 [==============================] - 11s 110ms/step - loss: 0.5984 - accuracy: 0.6847 - val_loss: 1.6557 - val_accuracy: 0.5180\n",
            "Epoch 5/10\n",
            "94/94 [==============================] - 7s 68ms/step - loss: 0.5664 - accuracy: 0.7177 - val_loss: 0.5869 - val_accuracy: 0.6905\n",
            "Epoch 6/10\n",
            "94/94 [==============================] - 10s 99ms/step - loss: 0.5189 - accuracy: 0.7510 - val_loss: 0.5418 - val_accuracy: 0.7355\n",
            "Epoch 7/10\n",
            "94/94 [==============================] - 7s 70ms/step - loss: 0.4847 - accuracy: 0.7643 - val_loss: 0.6541 - val_accuracy: 0.6895\n",
            "Epoch 8/10\n",
            "94/94 [==============================] - 10s 103ms/step - loss: 0.4250 - accuracy: 0.8017 - val_loss: 0.6660 - val_accuracy: 0.7225\n",
            "Epoch 9/10\n",
            "94/94 [==============================] - 6s 66ms/step - loss: 0.3991 - accuracy: 0.8203 - val_loss: 0.5815 - val_accuracy: 0.7420\n",
            "Epoch 10/10\n",
            "94/94 [==============================] - 10s 110ms/step - loss: 0.3367 - accuracy: 0.8477 - val_loss: 0.5890 - val_accuracy: 0.7365\n"
          ]
        }
      ],
      "source": [
        "callbacks = [\n",
        "    tf.keras.callbacks.ModelCheckpoint(\n",
        "        filepath=\"convnet_from_scratch3.keras\",\n",
        "        save_best_only=True,\n",
        "        monitor=\"val_loss\")\n",
        "]\n",
        "history = model.fit(\n",
        "    train_image_dataset,\n",
        "    epochs=10,\n",
        "    validation_data=validation_image_dataset,\n",
        "    callbacks=callbacks)"
      ]
    },
    {
      "cell_type": "code",
      "execution_count": null,
      "metadata": {
        "colab": {
          "base_uri": "https://localhost:8080/"
        },
        "id": "8j4o2p3x13se",
        "outputId": "5bb007bc-82a3-448d-aa80-0ba0bbff50b9"
      },
      "outputs": [
        {
          "output_type": "stream",
          "name": "stdout",
          "text": [
            "32/32 [==============================] - 2s 34ms/step - loss: 0.5570 - accuracy: 0.7190\n",
            "Test accuracy: 0.719\n"
          ]
        }
      ],
      "source": [
        "\n",
        "test_model = tf.keras.models.load_model(\n",
        "    \"convnet_from_scratch3.keras\")\n",
        "test_loss, test_acc = test_model.evaluate(test_image_dataset)\n",
        "print(f\"Test accuracy: {test_acc:.3f}\")"
      ]
    },
    {
      "cell_type": "markdown",
      "metadata": {
        "id": "zjs73H7owCZb"
      },
      "source": [
        "Accuracy=84.7%\n",
        "Validation Accuracy=73.6%\n",
        "Test Accuracy=71.9%"
      ]
    },
    {
      "cell_type": "markdown",
      "metadata": {
        "id": "xnZ1z6A_wG7b"
      },
      "source": [
        "##Using Data augmentation"
      ]
    },
    {
      "cell_type": "code",
      "execution_count": null,
      "metadata": {
        "id": "RJ5q36MK17BE"
      },
      "outputs": [],
      "source": [
        "\n",
        "data_augmentation = tf.keras.Sequential(\n",
        "    [\n",
        "        tf.keras.layers.RandomFlip(\"horizontal\"),\n",
        "        tf.keras.layers.RandomRotation(0.1),\n",
        "        tf.keras.layers.RandomZoom(0.2),\n",
        "    ]\n",
        ")"
      ]
    },
    {
      "cell_type": "code",
      "execution_count": null,
      "metadata": {
        "id": "FrTYAeg019iF",
        "colab": {
          "base_uri": "https://localhost:8080/"
        },
        "outputId": "0fb52871-83e6-4d75-fb3b-8b7a22c0e166"
      },
      "outputs": [
        {
          "output_type": "stream",
          "name": "stdout",
          "text": [
            "Epoch 1/10\n",
            "94/94 [==============================] - 14s 109ms/step - loss: 0.6920 - accuracy: 0.5157 - val_loss: 0.6843 - val_accuracy: 0.5215\n",
            "Epoch 2/10\n",
            "94/94 [==============================] - 7s 70ms/step - loss: 0.6931 - accuracy: 0.5153 - val_loss: 0.6897 - val_accuracy: 0.5445\n",
            "Epoch 3/10\n",
            "94/94 [==============================] - 10s 99ms/step - loss: 0.6821 - accuracy: 0.5473 - val_loss: 0.6836 - val_accuracy: 0.5345\n",
            "Epoch 4/10\n",
            "94/94 [==============================] - 10s 101ms/step - loss: 0.6652 - accuracy: 0.6047 - val_loss: 0.7099 - val_accuracy: 0.5810\n",
            "Epoch 5/10\n",
            "94/94 [==============================] - 8s 79ms/step - loss: 0.6448 - accuracy: 0.6153 - val_loss: 0.6715 - val_accuracy: 0.6195\n",
            "Epoch 6/10\n",
            "94/94 [==============================] - 10s 107ms/step - loss: 0.6300 - accuracy: 0.6393 - val_loss: 0.6327 - val_accuracy: 0.6390\n",
            "Epoch 7/10\n",
            "94/94 [==============================] - 7s 69ms/step - loss: 0.6154 - accuracy: 0.6643 - val_loss: 0.5956 - val_accuracy: 0.6890\n",
            "Epoch 8/10\n",
            "94/94 [==============================] - 10s 101ms/step - loss: 0.5955 - accuracy: 0.6710 - val_loss: 0.6065 - val_accuracy: 0.6915\n",
            "Epoch 9/10\n",
            "94/94 [==============================] - 7s 68ms/step - loss: 0.5921 - accuracy: 0.6857 - val_loss: 0.6300 - val_accuracy: 0.6655\n",
            "Epoch 10/10\n",
            "94/94 [==============================] - 10s 108ms/step - loss: 0.5799 - accuracy: 0.6910 - val_loss: 0.6062 - val_accuracy: 0.6955\n"
          ]
        }
      ],
      "source": [
        "\n",
        "inputs = tf.keras.Input(shape=(180, 180, 3))\n",
        "input = data_augmentation(inputs)\n",
        "preprocessed_inputs = tf.keras.layers.Rescaling(1./255)(input)\n",
        "conv_features = tf.keras.layers.Conv2D(filters=32, kernel_size=3, activation=\"relu\")(preprocessed_inputs)\n",
        "conv_features = tf.keras.layers.MaxPooling2D(pool_size=2)(conv_features)\n",
        "conv_features = tf.keras.layers.Conv2D(filters=64, kernel_size=3, activation=\"relu\")(conv_features)\n",
        "conv_features = tf.keras.layers.MaxPooling2D(pool_size=2)(conv_features)\n",
        "conv_features = tf.keras.layers.Conv2D(filters=128, kernel_size=3, activation=\"relu\")(conv_features)\n",
        "conv_features = tf.keras.layers.MaxPooling2D(pool_size=2)(conv_features)\n",
        "conv_features = tf.keras.layers.Conv2D(filters=256, kernel_size=3, activation=\"relu\")(conv_features)\n",
        "conv_features = tf.keras.layers.MaxPooling2D(pool_size=2)(conv_features)\n",
        "conv_features = tf.keras.layers.Conv2D(filters=256, kernel_size=3, activation=\"relu\")(conv_features)\n",
        "conv_features = tf.keras.layers.Flatten()(conv_features)\n",
        "conv_features = tf.keras.layers.Dropout(0.5)(conv_features)\n",
        "outputs = tf.keras.layers.Dense(1, activation=\"sigmoid\")(conv_features)\n",
        "model = tf.keras.Model(inputs=inputs, outputs=outputs)\n",
        "\n",
        "model.compile(loss=\"binary_crossentropy\",\n",
        "              optimizer=\"adam\",\n",
        "              metrics=[\"accuracy\"])\n",
        "\n",
        "callbacks = [\n",
        "    tf.keras.callbacks.ModelCheckpoint(\n",
        "        filepath=\"convnet_from_scratch_with_augmentation_3.keras\",\n",
        "        save_best_only=True,\n",
        "        monitor=\"val_loss\")\n",
        "]\n",
        "history = model.fit(\n",
        "    train_image_dataset,\n",
        "    epochs=10,\n",
        "    validation_data=validation_image_dataset,\n",
        "    callbacks=callbacks)\n"
      ]
    },
    {
      "cell_type": "code",
      "execution_count": null,
      "metadata": {
        "colab": {
          "base_uri": "https://localhost:8080/"
        },
        "id": "Ua0-mGXU2CWh",
        "outputId": "de2f37b4-92db-4a05-c819-378e1cc39ec3"
      },
      "outputs": [
        {
          "output_type": "stream",
          "name": "stdout",
          "text": [
            "32/32 [==============================] - 2s 30ms/step - loss: 0.6176 - accuracy: 0.6620\n",
            "Test accuracy: 0.662\n"
          ]
        }
      ],
      "source": [
        "test_model = tf.keras.models.load_model(\n",
        "    \"convnet_from_scratch_with_augmentation_3.keras\")\n",
        "test_loss, test_acc = test_model.evaluate(test_image_dataset)\n",
        "print(f\"Test accuracy: {test_acc:.3f}\")\n",
        "\n"
      ]
    },
    {
      "cell_type": "markdown",
      "metadata": {
        "id": "uqBaK12ewnWP"
      },
      "source": [
        "Accuracy=69.1%\n",
        "Validation Accuracy=69.5%\n",
        "Test Accuracy=66.2%"
      ]
    },
    {
      "cell_type": "markdown",
      "metadata": {
        "id": "iyeiwR1XwndR"
      },
      "source": [
        "#4.Using a pre-trained network"
      ]
    },
    {
      "cell_type": "markdown",
      "metadata": {
        "id": "C-2gOlMgxZBb"
      },
      "source": [
        "Feature extraction - Instantiating the VGG16 convolutional base"
      ]
    },
    {
      "cell_type": "code",
      "execution_count": null,
      "metadata": {
        "colab": {
          "base_uri": "https://localhost:8080/"
        },
        "id": "nOSdYZVx2FVg",
        "outputId": "1e676eab-4f9c-4b10-9e21-b46b0327265a"
      },
      "outputs": [
        {
          "output_type": "stream",
          "name": "stdout",
          "text": [
            "Downloading data from https://storage.googleapis.com/tensorflow/keras-applications/vgg16/vgg16_weights_tf_dim_ordering_tf_kernels_notop.h5\n",
            "58889256/58889256 [==============================] - 0s 0us/step\n",
            "Model: \"vgg16\"\n",
            "_________________________________________________________________\n",
            " Layer (type)                Output Shape              Param #   \n",
            "=================================================================\n",
            " input_14 (InputLayer)       [(None, 180, 180, 3)]     0         \n",
            "                                                                 \n",
            " block1_conv1 (Conv2D)       (None, 180, 180, 64)      1792      \n",
            "                                                                 \n",
            " block1_conv2 (Conv2D)       (None, 180, 180, 64)      36928     \n",
            "                                                                 \n",
            " block1_pool (MaxPooling2D)  (None, 90, 90, 64)        0         \n",
            "                                                                 \n",
            " block2_conv1 (Conv2D)       (None, 90, 90, 128)       73856     \n",
            "                                                                 \n",
            " block2_conv2 (Conv2D)       (None, 90, 90, 128)       147584    \n",
            "                                                                 \n",
            " block2_pool (MaxPooling2D)  (None, 45, 45, 128)       0         \n",
            "                                                                 \n",
            " block3_conv1 (Conv2D)       (None, 45, 45, 256)       295168    \n",
            "                                                                 \n",
            " block3_conv2 (Conv2D)       (None, 45, 45, 256)       590080    \n",
            "                                                                 \n",
            " block3_conv3 (Conv2D)       (None, 45, 45, 256)       590080    \n",
            "                                                                 \n",
            " block3_pool (MaxPooling2D)  (None, 22, 22, 256)       0         \n",
            "                                                                 \n",
            " block4_conv1 (Conv2D)       (None, 22, 22, 512)       1180160   \n",
            "                                                                 \n",
            " block4_conv2 (Conv2D)       (None, 22, 22, 512)       2359808   \n",
            "                                                                 \n",
            " block4_conv3 (Conv2D)       (None, 22, 22, 512)       2359808   \n",
            "                                                                 \n",
            " block4_pool (MaxPooling2D)  (None, 11, 11, 512)       0         \n",
            "                                                                 \n",
            " block5_conv1 (Conv2D)       (None, 11, 11, 512)       2359808   \n",
            "                                                                 \n",
            " block5_conv2 (Conv2D)       (None, 11, 11, 512)       2359808   \n",
            "                                                                 \n",
            " block5_conv3 (Conv2D)       (None, 11, 11, 512)       2359808   \n",
            "                                                                 \n",
            " block5_pool (MaxPooling2D)  (None, 5, 5, 512)         0         \n",
            "                                                                 \n",
            "=================================================================\n",
            "Total params: 14714688 (56.13 MB)\n",
            "Trainable params: 14714688 (56.13 MB)\n",
            "Non-trainable params: 0 (0.00 Byte)\n",
            "_________________________________________________________________\n"
          ]
        }
      ],
      "source": [
        "conv_base = tf.keras.applications.vgg16.VGG16(\n",
        "    weights=\"imagenet\",\n",
        "    include_top=False,\n",
        "    input_shape=(180, 180, 3))\n",
        "conv_base.summary()"
      ]
    },
    {
      "cell_type": "markdown",
      "metadata": {
        "id": "a2A58RX2xf0g"
      },
      "source": [
        "Feature extraction - Extracting features and corresponding labels"
      ]
    },
    {
      "cell_type": "code",
      "execution_count": null,
      "metadata": {
        "colab": {
          "base_uri": "https://localhost:8080/"
        },
        "id": "ROPn5TAH2QG_",
        "outputId": "34080ace-b860-4068-b8c0-c785ad9e33cd"
      },
      "outputs": [
        {
          "output_type": "stream",
          "name": "stdout",
          "text": [
            "1/1 [==============================] - 5s 5s/step\n",
            "1/1 [==============================] - 0s 23ms/step\n",
            "1/1 [==============================] - 0s 26ms/step\n",
            "1/1 [==============================] - 0s 40ms/step\n",
            "1/1 [==============================] - 0s 26ms/step\n",
            "1/1 [==============================] - 0s 24ms/step\n",
            "1/1 [==============================] - 0s 24ms/step\n",
            "1/1 [==============================] - 0s 29ms/step\n",
            "1/1 [==============================] - 0s 23ms/step\n",
            "1/1 [==============================] - 0s 23ms/step\n",
            "1/1 [==============================] - 0s 28ms/step\n",
            "1/1 [==============================] - 0s 29ms/step\n",
            "1/1 [==============================] - 0s 34ms/step\n",
            "1/1 [==============================] - 0s 24ms/step\n",
            "1/1 [==============================] - 0s 24ms/step\n",
            "1/1 [==============================] - 0s 25ms/step\n",
            "1/1 [==============================] - 0s 28ms/step\n",
            "1/1 [==============================] - 0s 23ms/step\n",
            "1/1 [==============================] - 0s 23ms/step\n",
            "1/1 [==============================] - 0s 25ms/step\n",
            "1/1 [==============================] - 0s 34ms/step\n",
            "1/1 [==============================] - 0s 29ms/step\n",
            "1/1 [==============================] - 0s 23ms/step\n",
            "1/1 [==============================] - 0s 23ms/step\n",
            "1/1 [==============================] - 0s 26ms/step\n",
            "1/1 [==============================] - 0s 23ms/step\n",
            "1/1 [==============================] - 0s 27ms/step\n",
            "1/1 [==============================] - 0s 32ms/step\n",
            "1/1 [==============================] - 0s 34ms/step\n",
            "1/1 [==============================] - 0s 27ms/step\n",
            "1/1 [==============================] - 0s 27ms/step\n",
            "1/1 [==============================] - 0s 28ms/step\n",
            "1/1 [==============================] - 0s 24ms/step\n",
            "1/1 [==============================] - 0s 25ms/step\n",
            "1/1 [==============================] - 0s 25ms/step\n",
            "1/1 [==============================] - 0s 24ms/step\n",
            "1/1 [==============================] - 0s 33ms/step\n",
            "1/1 [==============================] - 0s 29ms/step\n",
            "1/1 [==============================] - 0s 24ms/step\n",
            "1/1 [==============================] - 0s 35ms/step\n",
            "1/1 [==============================] - 0s 27ms/step\n",
            "1/1 [==============================] - 0s 28ms/step\n",
            "1/1 [==============================] - 0s 24ms/step\n",
            "1/1 [==============================] - 0s 24ms/step\n",
            "1/1 [==============================] - 0s 35ms/step\n",
            "1/1 [==============================] - 0s 30ms/step\n",
            "1/1 [==============================] - 0s 32ms/step\n",
            "1/1 [==============================] - 0s 37ms/step\n",
            "1/1 [==============================] - 0s 34ms/step\n",
            "1/1 [==============================] - 0s 44ms/step\n",
            "1/1 [==============================] - 0s 36ms/step\n",
            "1/1 [==============================] - 0s 34ms/step\n",
            "1/1 [==============================] - 0s 45ms/step\n",
            "1/1 [==============================] - 0s 55ms/step\n",
            "1/1 [==============================] - 0s 35ms/step\n",
            "1/1 [==============================] - 0s 33ms/step\n",
            "1/1 [==============================] - 0s 49ms/step\n",
            "1/1 [==============================] - 0s 41ms/step\n",
            "1/1 [==============================] - 0s 51ms/step\n",
            "1/1 [==============================] - 0s 43ms/step\n",
            "1/1 [==============================] - 0s 47ms/step\n",
            "1/1 [==============================] - 0s 37ms/step\n",
            "1/1 [==============================] - 0s 41ms/step\n",
            "1/1 [==============================] - 0s 34ms/step\n",
            "1/1 [==============================] - 0s 44ms/step\n",
            "1/1 [==============================] - 0s 47ms/step\n",
            "1/1 [==============================] - 0s 42ms/step\n",
            "1/1 [==============================] - 0s 39ms/step\n",
            "1/1 [==============================] - 0s 45ms/step\n",
            "1/1 [==============================] - 0s 32ms/step\n",
            "1/1 [==============================] - 0s 36ms/step\n",
            "1/1 [==============================] - 0s 41ms/step\n",
            "1/1 [==============================] - 0s 26ms/step\n",
            "1/1 [==============================] - 0s 28ms/step\n",
            "1/1 [==============================] - 0s 24ms/step\n",
            "1/1 [==============================] - 0s 31ms/step\n",
            "1/1 [==============================] - 0s 24ms/step\n",
            "1/1 [==============================] - 0s 22ms/step\n",
            "1/1 [==============================] - 0s 25ms/step\n",
            "1/1 [==============================] - 0s 35ms/step\n",
            "1/1 [==============================] - 0s 29ms/step\n",
            "1/1 [==============================] - 0s 27ms/step\n",
            "1/1 [==============================] - 0s 23ms/step\n",
            "1/1 [==============================] - 0s 26ms/step\n",
            "1/1 [==============================] - 0s 25ms/step\n",
            "1/1 [==============================] - 0s 26ms/step\n",
            "1/1 [==============================] - 0s 27ms/step\n",
            "1/1 [==============================] - 0s 26ms/step\n",
            "1/1 [==============================] - 0s 31ms/step\n",
            "1/1 [==============================] - 0s 27ms/step\n",
            "1/1 [==============================] - 0s 25ms/step\n",
            "1/1 [==============================] - 0s 23ms/step\n",
            "1/1 [==============================] - 0s 22ms/step\n",
            "1/1 [==============================] - 4s 4s/step\n",
            "1/1 [==============================] - 0s 31ms/step\n",
            "1/1 [==============================] - 0s 27ms/step\n",
            "1/1 [==============================] - 0s 27ms/step\n",
            "1/1 [==============================] - 0s 25ms/step\n",
            "1/1 [==============================] - 0s 27ms/step\n",
            "1/1 [==============================] - 0s 29ms/step\n",
            "1/1 [==============================] - 0s 31ms/step\n",
            "1/1 [==============================] - 0s 37ms/step\n",
            "1/1 [==============================] - 0s 24ms/step\n",
            "1/1 [==============================] - 0s 41ms/step\n",
            "1/1 [==============================] - 0s 49ms/step\n",
            "1/1 [==============================] - 0s 41ms/step\n",
            "1/1 [==============================] - 0s 36ms/step\n",
            "1/1 [==============================] - 0s 29ms/step\n",
            "1/1 [==============================] - 0s 47ms/step\n",
            "1/1 [==============================] - 0s 43ms/step\n",
            "1/1 [==============================] - 0s 42ms/step\n",
            "1/1 [==============================] - 0s 38ms/step\n",
            "1/1 [==============================] - 0s 39ms/step\n",
            "1/1 [==============================] - 0s 39ms/step\n",
            "1/1 [==============================] - 0s 36ms/step\n",
            "1/1 [==============================] - 0s 47ms/step\n",
            "1/1 [==============================] - 0s 42ms/step\n",
            "1/1 [==============================] - 0s 41ms/step\n",
            "1/1 [==============================] - 0s 38ms/step\n",
            "1/1 [==============================] - 0s 33ms/step\n",
            "1/1 [==============================] - 0s 57ms/step\n",
            "1/1 [==============================] - 0s 64ms/step\n",
            "1/1 [==============================] - 0s 34ms/step\n",
            "1/1 [==============================] - 0s 40ms/step\n",
            "1/1 [==============================] - 0s 35ms/step\n",
            "1/1 [==============================] - 0s 39ms/step\n",
            "1/1 [==============================] - 0s 44ms/step\n",
            "1/1 [==============================] - 0s 47ms/step\n",
            "1/1 [==============================] - 0s 42ms/step\n",
            "1/1 [==============================] - 0s 41ms/step\n",
            "1/1 [==============================] - 0s 32ms/step\n",
            "1/1 [==============================] - 0s 23ms/step\n",
            "1/1 [==============================] - 0s 32ms/step\n",
            "1/1 [==============================] - 0s 25ms/step\n",
            "1/1 [==============================] - 0s 29ms/step\n",
            "1/1 [==============================] - 0s 29ms/step\n",
            "1/1 [==============================] - 0s 23ms/step\n",
            "1/1 [==============================] - 0s 24ms/step\n",
            "1/1 [==============================] - 0s 25ms/step\n",
            "1/1 [==============================] - 0s 25ms/step\n",
            "1/1 [==============================] - 0s 23ms/step\n",
            "1/1 [==============================] - 0s 22ms/step\n",
            "1/1 [==============================] - 0s 39ms/step\n",
            "1/1 [==============================] - 0s 30ms/step\n",
            "1/1 [==============================] - 0s 28ms/step\n",
            "1/1 [==============================] - 0s 23ms/step\n",
            "1/1 [==============================] - 0s 23ms/step\n",
            "1/1 [==============================] - 0s 24ms/step\n",
            "1/1 [==============================] - 0s 32ms/step\n",
            "1/1 [==============================] - 0s 23ms/step\n",
            "1/1 [==============================] - 0s 26ms/step\n",
            "1/1 [==============================] - 0s 28ms/step\n",
            "1/1 [==============================] - 0s 35ms/step\n",
            "1/1 [==============================] - 0s 27ms/step\n",
            "1/1 [==============================] - 0s 24ms/step\n",
            "1/1 [==============================] - 0s 25ms/step\n",
            "1/1 [==============================] - 3s 3s/step\n",
            "1/1 [==============================] - 0s 32ms/step\n",
            "1/1 [==============================] - 0s 39ms/step\n",
            "1/1 [==============================] - 0s 46ms/step\n",
            "1/1 [==============================] - 0s 31ms/step\n",
            "1/1 [==============================] - 0s 34ms/step\n",
            "1/1 [==============================] - 0s 42ms/step\n",
            "1/1 [==============================] - 0s 34ms/step\n",
            "1/1 [==============================] - 0s 59ms/step\n",
            "1/1 [==============================] - 0s 38ms/step\n",
            "1/1 [==============================] - 0s 35ms/step\n",
            "1/1 [==============================] - 0s 40ms/step\n",
            "1/1 [==============================] - 0s 35ms/step\n",
            "1/1 [==============================] - 0s 40ms/step\n",
            "1/1 [==============================] - 0s 44ms/step\n",
            "1/1 [==============================] - 0s 67ms/step\n",
            "1/1 [==============================] - 0s 50ms/step\n",
            "1/1 [==============================] - 0s 38ms/step\n",
            "1/1 [==============================] - 0s 36ms/step\n",
            "1/1 [==============================] - 0s 54ms/step\n",
            "1/1 [==============================] - 0s 50ms/step\n",
            "1/1 [==============================] - 0s 44ms/step\n",
            "1/1 [==============================] - 0s 37ms/step\n",
            "1/1 [==============================] - 0s 40ms/step\n",
            "1/1 [==============================] - 0s 45ms/step\n",
            "1/1 [==============================] - 0s 33ms/step\n",
            "1/1 [==============================] - 0s 39ms/step\n",
            "1/1 [==============================] - 0s 49ms/step\n",
            "1/1 [==============================] - 0s 37ms/step\n",
            "1/1 [==============================] - 0s 27ms/step\n",
            "1/1 [==============================] - 0s 25ms/step\n",
            "1/1 [==============================] - 0s 26ms/step\n",
            "1/1 [==============================] - 2s 2s/step\n"
          ]
        },
        {
          "output_type": "execute_result",
          "data": {
            "text/plain": [
              "(3000, 5, 5, 512)"
            ]
          },
          "metadata": {},
          "execution_count": 41
        }
      ],
      "source": [
        "\n",
        "import numpy as np\n",
        "\n",
        "def get_features_and_labels(dataset):\n",
        "    all_features = []\n",
        "    all_labels = []\n",
        "    for images, labels in dataset:\n",
        "        preprocessed_images = tf.keras.applications.vgg16.preprocess_input(images)\n",
        "        features = conv_base.predict(preprocessed_images)\n",
        "        all_features.append(features)\n",
        "        all_labels.append(labels)\n",
        "    return np.concatenate(all_features), np.concatenate(all_labels)\n",
        "\n",
        "train_features, train_labels =  get_features_and_labels(train_image_dataset)\n",
        "val_features, val_labels =  get_features_and_labels(validation_image_dataset)\n",
        "test_features, test_labels =  get_features_and_labels(test_image_dataset)\n",
        "\n",
        "train_features.shape"
      ]
    },
    {
      "cell_type": "markdown",
      "metadata": {
        "id": "FV_ombIwxtrm"
      },
      "source": [
        "Feature extraction - Defining and training the densely connected classifier"
      ]
    },
    {
      "cell_type": "code",
      "execution_count": null,
      "metadata": {
        "colab": {
          "base_uri": "https://localhost:8080/"
        },
        "id": "KzZRjD2V2UU3",
        "outputId": "4ba73f1d-cab3-43e0-8c4e-38b7c8c41aad"
      },
      "outputs": [
        {
          "output_type": "stream",
          "name": "stdout",
          "text": [
            "Epoch 1/15\n",
            "94/94 [==============================] - 3s 18ms/step - loss: 11.9299 - accuracy: 0.9340 - val_loss: 4.0927 - val_accuracy: 0.9720\n",
            "Epoch 2/15\n",
            "94/94 [==============================] - 1s 10ms/step - loss: 3.7496 - accuracy: 0.9773 - val_loss: 6.1697 - val_accuracy: 0.9675\n",
            "Epoch 3/15\n",
            "94/94 [==============================] - 1s 13ms/step - loss: 2.1446 - accuracy: 0.9860 - val_loss: 4.5801 - val_accuracy: 0.9780\n",
            "Epoch 4/15\n",
            "94/94 [==============================] - 2s 16ms/step - loss: 0.8541 - accuracy: 0.9903 - val_loss: 7.4099 - val_accuracy: 0.9705\n",
            "Epoch 5/15\n",
            "94/94 [==============================] - 1s 7ms/step - loss: 0.3417 - accuracy: 0.9963 - val_loss: 6.7230 - val_accuracy: 0.9720\n",
            "Epoch 6/15\n",
            "94/94 [==============================] - 1s 8ms/step - loss: 0.9988 - accuracy: 0.9937 - val_loss: 9.5079 - val_accuracy: 0.9680\n",
            "Epoch 7/15\n",
            "94/94 [==============================] - 1s 6ms/step - loss: 0.8402 - accuracy: 0.9943 - val_loss: 6.0380 - val_accuracy: 0.9695\n",
            "Epoch 8/15\n",
            "94/94 [==============================] - 1s 8ms/step - loss: 0.3993 - accuracy: 0.9970 - val_loss: 5.7285 - val_accuracy: 0.9735\n",
            "Epoch 9/15\n",
            "94/94 [==============================] - 1s 8ms/step - loss: 0.3955 - accuracy: 0.9960 - val_loss: 7.7727 - val_accuracy: 0.9705\n",
            "Epoch 10/15\n",
            "94/94 [==============================] - 1s 7ms/step - loss: 0.1825 - accuracy: 0.9983 - val_loss: 6.9911 - val_accuracy: 0.9730\n",
            "Epoch 11/15\n",
            "94/94 [==============================] - 1s 8ms/step - loss: 0.2845 - accuracy: 0.9967 - val_loss: 6.2314 - val_accuracy: 0.9755\n",
            "Epoch 12/15\n",
            "94/94 [==============================] - 1s 6ms/step - loss: 0.2944 - accuracy: 0.9977 - val_loss: 6.9999 - val_accuracy: 0.9750\n",
            "Epoch 13/15\n",
            "94/94 [==============================] - 1s 8ms/step - loss: 0.4147 - accuracy: 0.9980 - val_loss: 7.1216 - val_accuracy: 0.9720\n",
            "Epoch 14/15\n",
            "94/94 [==============================] - 1s 6ms/step - loss: 0.0314 - accuracy: 0.9993 - val_loss: 8.0772 - val_accuracy: 0.9715\n",
            "Epoch 15/15\n",
            "94/94 [==============================] - 1s 5ms/step - loss: 0.0710 - accuracy: 0.9987 - val_loss: 7.0358 - val_accuracy: 0.9760\n"
          ]
        }
      ],
      "source": [
        "inputs = tf.keras.Input(shape=(5, 5, 512))\n",
        "x = tf.keras.layers.Flatten()(inputs)\n",
        "x = tf.keras.layers.Dense(256)(x)\n",
        "x = tf.keras.layers.Dropout(0.5)(x)\n",
        "outputs = tf.keras.layers.Dense(1, activation=\"sigmoid\")(x)\n",
        "model = tf.keras.Model(inputs, outputs)\n",
        "model.compile(loss=\"binary_crossentropy\",\n",
        "              optimizer=\"rmsprop\",\n",
        "              metrics=[\"accuracy\"])\n",
        "\n",
        "callbacks = [\n",
        "    tf.keras.callbacks.ModelCheckpoint(\n",
        "      filepath=\"feature_extractionPT1.keras\",\n",
        "      save_best_only=True,\n",
        "      monitor=\"val_loss\")\n",
        "]\n",
        "history = model.fit(\n",
        "    train_features, train_labels,\n",
        "    epochs=15,\n",
        "    validation_data=(val_features, val_labels),\n",
        "    callbacks=callbacks)"
      ]
    },
    {
      "cell_type": "markdown",
      "metadata": {
        "id": "CiKYKvf_x3k1"
      },
      "source": [
        "Accuracy=99.8%\n",
        "Validation Accuracy =97.3%"
      ]
    },
    {
      "cell_type": "code",
      "execution_count": null,
      "metadata": {
        "colab": {
          "base_uri": "https://localhost:8080/",
          "height": 887
        },
        "id": "6x0a71Tc2Yv9",
        "outputId": "c70e9948-dd29-4d2f-f9f5-f2c2232ba753"
      },
      "outputs": [
        {
          "output_type": "display_data",
          "data": {
            "text/plain": [
              "<Figure size 640x480 with 1 Axes>"
            ],
            "image/png": "[encoded data removed]"
          },
          "metadata": {}
        },
        {
          "output_type": "display_data",
          "data": {
            "text/plain": [
              "<Figure size 640x480 with 1 Axes>"
            ],
            "image/png": "[encoded data removed]"
          },
          "metadata": {}
        }
      ],
      "source": [
        "\n",
        "import matplotlib.pyplot as plt\n",
        "acc = history.history[\"accuracy\"]\n",
        "val_acc = history.history[\"val_accuracy\"]\n",
        "loss = history.history[\"loss\"]\n",
        "val_loss = history.history[\"val_loss\"]\n",
        "epochs = range(1, len(acc) + 1)\n",
        "plt.plot(epochs, acc, \"bo\", label=\"Training accuracy\")\n",
        "plt.plot(epochs, val_acc, \"b\", label=\"Validation accuracy\")\n",
        "plt.title(\"Training and validation accuracy\")\n",
        "plt.legend()\n",
        "plt.figure()\n",
        "plt.plot(epochs, loss, \"bo\", label=\"Training loss\")\n",
        "plt.plot(epochs, val_loss, \"b\", label=\"Validation loss\")\n",
        "plt.title(\"Training and validation loss\")\n",
        "plt.legend()\n",
        "plt.show()"
      ]
    },
    {
      "cell_type": "code",
      "execution_count": null,
      "metadata": {
        "colab": {
          "base_uri": "https://localhost:8080/"
        },
        "id": "9iF5RStd2gGW",
        "outputId": "e9419697-a187-4b6a-e1d1-1487ed391ff8"
      },
      "outputs": [
        {
          "output_type": "stream",
          "name": "stdout",
          "text": [
            "This is the number of trainable weights before freezing the conv base: 26\n",
            "This is the number of trainable weights after freezing the conv base: 0\n"
          ]
        }
      ],
      "source": [
        "conv_base  = tf.keras.applications.vgg16.VGG16(\n",
        "    weights=\"imagenet\",\n",
        "    include_top=False)\n",
        "conv_base.trainable = False\n",
        "\n",
        "\n",
        "conv_base.trainable = True\n",
        "print(\"This is the number of trainable weights \"\n",
        "      \"before freezing the conv base:\", len(conv_base.trainable_weights))\n",
        "\n",
        "\n",
        "conv_base.trainable = False\n",
        "print(\"This is the number of trainable weights \"\n",
        "      \"after freezing the conv base:\", len(conv_base.trainable_weights))\n"
      ]
    },
    {
      "cell_type": "markdown",
      "metadata": {
        "id": "iftbSfQtyDCQ"
      },
      "source": [
        "##Feature extraction with Data Augmentation"
      ]
    },
    {
      "cell_type": "code",
      "execution_count": null,
      "metadata": {
        "id": "mUs-D-zN2kmb"
      },
      "outputs": [],
      "source": [
        "data_augmentation = tf.keras.Sequential(\n",
        "    [\n",
        "        tf.keras.layers.RandomFlip(\"horizontal\"),\n",
        "        tf.keras.layers.RandomRotation(0.1),\n",
        "        tf.keras.layers.RandomZoom(0.2),\n",
        "    ]\n",
        ")\n",
        "\n",
        "inputs = tf.keras.Input(shape=(180, 180, 3))\n",
        "x = data_augmentation(inputs)\n",
        "x = tf.keras.applications.vgg16.preprocess_input(x)\n",
        "x = conv_base(x)\n",
        "x = tf.keras.layers.Flatten()(x)\n",
        "x = tf.keras.layers.Dense(256)(x)\n",
        "x = tf.keras.layers.Dropout(0.5)(x)\n",
        "outputs = tf.keras.layers.Dense(1, activation=\"sigmoid\")(x)\n",
        "model = tf.keras.Model(inputs, outputs)\n",
        "model.compile(loss=\"binary_crossentropy\",\n",
        "              optimizer=\"rmsprop\",\n",
        "              metrics=[\"accuracy\"])"
      ]
    },
    {
      "cell_type": "code",
      "execution_count": null,
      "metadata": {
        "colab": {
          "base_uri": "https://localhost:8080/"
        },
        "id": "-qIvOhpp2nn9",
        "outputId": "0d329f7c-9d13-48b3-b37f-f5a25e6b90c4"
      },
      "outputs": [
        {
          "output_type": "stream",
          "name": "stdout",
          "text": [
            "Epoch 1/5\n",
            "94/94 [==============================] - 17s 161ms/step - loss: 13.3714 - accuracy: 0.9097 - val_loss: 6.0543 - val_accuracy: 0.9640\n",
            "Epoch 2/5\n"
          ]
        },
        {
          "output_type": "stream",
          "name": "stderr",
          "text": [
            "/usr/local/lib/python3.10/dist-packages/keras/src/engine/training.py:3103: UserWarning: You are saving your model as an HDF5 file via `model.save()`. This file format is considered legacy. We recommend using instead the native Keras format, e.g. `model.save('my_model.keras')`.\n",
            "  saving_api.save_model(\n"
          ]
        },
        {
          "output_type": "stream",
          "name": "stdout",
          "text": [
            "94/94 [==============================] - 16s 163ms/step - loss: 7.1210 - accuracy: 0.9470 - val_loss: 5.8420 - val_accuracy: 0.9670\n",
            "Epoch 3/5\n",
            "94/94 [==============================] - 16s 172ms/step - loss: 5.0767 - accuracy: 0.9587 - val_loss: 3.8668 - val_accuracy: 0.9735\n",
            "Epoch 4/5\n",
            "94/94 [==============================] - 16s 164ms/step - loss: 5.1684 - accuracy: 0.9570 - val_loss: 3.9363 - val_accuracy: 0.9750\n",
            "Epoch 5/5\n",
            "94/94 [==============================] - 16s 166ms/step - loss: 4.6471 - accuracy: 0.9563 - val_loss: 2.9224 - val_accuracy: 0.9770\n"
          ]
        }
      ],
      "source": [
        "\n",
        "callbacks = [\n",
        "    tf.keras.callbacks.ModelCheckpoint(\n",
        "        filepath=\"feature_extraction_with_data_augmentationPT2.h5\",\n",
        "        save_best_only=True,\n",
        "        monitor=\"val_loss\")\n",
        "]\n",
        "history = model.fit(\n",
        "    train_image_dataset,\n",
        "    epochs=5,\n",
        "    validation_data=validation_image_dataset,\n",
        "    callbacks=callbacks)"
      ]
    },
    {
      "cell_type": "code",
      "execution_count": null,
      "metadata": {
        "colab": {
          "base_uri": "https://localhost:8080/"
        },
        "id": "67upd5DM2pxB",
        "outputId": "b6c9fd02-f18b-4aec-93bf-722d9a0f71a0"
      },
      "outputs": [
        {
          "output_type": "stream",
          "name": "stdout",
          "text": [
            "32/32 [==============================] - 3s 92ms/step - loss: 5.0016 - accuracy: 0.9580\n",
            "Test accuracy: 0.958\n"
          ]
        }
      ],
      "source": [
        "\n",
        "test_model = tf.keras.models.load_model(\n",
        "    \"feature_extraction_with_data_augmentationPT2.h5\")\n",
        "test_loss, test_acc = test_model.evaluate(test_image_dataset)\n",
        "print(f\"Test accuracy: {test_acc:.3f}\")"
      ]
    },
    {
      "cell_type": "markdown",
      "metadata": {
        "id": "fyOw5nffyHTE"
      },
      "source": [
        "Accuracy=95.6%\n",
        "Validation Accuracy=97.7%\n",
        "Test Accuracy=95.8%"
      ]
    },
    {
      "cell_type": "code",
      "execution_count": null,
      "metadata": {
        "id": "cEF2wAgt2sXr"
      },
      "outputs": [],
      "source": []
    }
  ],
  "metadata": {
    "accelerator": "GPU",
    "colab": {
      "provenance": []
    },
    "gpuClass": "standard",
    "kernelspec": {
      "display_name": "Python 3",
      "name": "python3"
    },
    "language_info": {
      "name": "python"
    }
  },
  "nbformat": 4,
  "nbformat_minor": 0
}